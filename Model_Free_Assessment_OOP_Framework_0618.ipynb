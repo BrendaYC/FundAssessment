{
 "cells": [
  {
   "cell_type": "code",
   "execution_count": null,
   "metadata": {},
   "outputs": [],
   "source": []
  },
  {
   "cell_type": "code",
   "execution_count": null,
   "metadata": {},
   "outputs": [],
   "source": []
  },
  {
   "cell_type": "code",
   "execution_count": null,
   "metadata": {},
   "outputs": [],
   "source": []
  },
  {
   "cell_type": "code",
   "execution_count": 1,
   "metadata": {},
   "outputs": [],
   "source": [
    "import pandas as pd\n",
    "import numpy as np\n",
    "import scipy.special\n",
    "import scipy.optimize\n",
    "from scipy.stats import norm"
   ]
  },
  {
   "cell_type": "code",
   "execution_count": 2,
   "metadata": {},
   "outputs": [],
   "source": [
    "df = pd.read_csv(\"Sample_hedge_fund.csv\")\n",
    "df.dropna(0,how=\"all\",inplace=True)\n",
    "df[\"DATE\"] = pd.to_datetime(df['DATE'])"
   ]
  },
  {
   "cell_type": "code",
   "execution_count": 5,
   "metadata": {},
   "outputs": [],
   "source": [
    "rf_df = pd.read_csv(\"monthly_rf_rate.csv\")"
   ]
  },
  {
   "cell_type": "code",
   "execution_count": 7,
   "metadata": {},
   "outputs": [],
   "source": [
    "rf_df['DATE'] = pd.to_datetime(rf_df['DATE'])"
   ]
  },
  {
   "cell_type": "code",
   "execution_count": null,
   "metadata": {},
   "outputs": [],
   "source": [
    "rf_df"
   ]
  },
  {
   "cell_type": "code",
   "execution_count": null,
   "metadata": {},
   "outputs": [],
   "source": []
  },
  {
   "cell_type": "code",
   "execution_count": 4,
   "metadata": {},
   "outputs": [],
   "source": [
    "class HF_Model_Free_Assessment():\n",
    "    \n",
    "    rf_df = pd.read_csv(\"monthly_rf_rate.csv\")\n",
    "    rf_df['DATE'] = pd.to_datetime(rf_df['DATE'])\n",
    "    \n",
    "    def __init__(self,date,performance,AUM):\n",
    "        self.date = date\n",
    "        self.performance = performance\n",
    "        self.AUM = AUM\n",
    "        print(\"Success\")\n",
    "    \n",
    "    \n",
    "    #### Basic Function ####\n",
    "    \n",
    "    def show_all(self):\n",
    "        df = pd.concat([self.date,self.performance,self.AUM],1)\n",
    "        return(df)\n",
    "    \n",
    "    def compound_return(self):\n",
    "        compound_return = np.cumprod(self.performance/100+1)\n",
    "        return compound_return\n",
    "    \n",
    "    def excessive_downside_deviation(self,target):\n",
    "        excessive_return = self.performance/100 - target\n",
    "        excessive_return = excessive_return.dropna()\n",
    "        negative_excessive_return = excessive_return[excessive_return <= 0]\n",
    "        EDD = np.std(negative_excessive_return)\n",
    "        return(EDD)\n",
    "        \n",
    "    \n",
    "    #######################################\n",
    "    \n",
    "    \n",
    "    #### Basic Assessment Function ####\n",
    "    \n",
    "    def Sharpe_ratio(self):\n",
    "        print(\"This is used to calculate Sharpe Ratio\")\n",
    "        pass\n",
    "    \n",
    "    def Treynor_ratio(self):\n",
    "        print(\"This is used to calculate Treynor Ratio\")\n",
    "        pass\n",
    "    \n",
    "    def Jarque_Bera(self):\n",
    "        print(\"This is used to calculate Jarque Bera Statistics\")\n",
    "        pass\n",
    "    \n",
    "    \n",
    "    #######################################\n",
    "    \n",
    "    \n",
    "    #### Adjusted Sharpe Ratios Family ####\n",
    "    \n",
    "    def Asymmetry_Adj_sharpe_ratio(self,target_return):\n",
    "\n",
    "        # Calculate the left-hand side of the function\n",
    "        EDD = self.excessive_downside_deviation(target_return)\n",
    "        std = np.std(self.performance.dropna()/100)\n",
    "        var_ratio = (EDD**2)/(std**2)\n",
    "\n",
    "        # find appropriate booundary of the solution\n",
    "\n",
    "        def fun(lam):\n",
    "            return (lam**2+1)*scipy.special.ndtr(-lam)-lam*norm.pdf(lam)-var_ratio\n",
    "\n",
    "        a = -2\n",
    "        b = 2\n",
    "        counter = 1\n",
    "        while np.sign(fun(a)) == np.sign(fun(b)):\n",
    "            counter =+ 1\n",
    "            a = a+0.1\n",
    "            b = b-0.1\n",
    "            if counter>1000:\n",
    "                raise Exception('Encounter Numerical Mistake.')\n",
    "\n",
    "        # Solve the optimization problem\n",
    "        try:\n",
    "            final_lam = scipy.optimize.brentq(fun,a,b)\n",
    "            return(final_lam)\n",
    "        except:\n",
    "            print(\"Can not find unique Solution.\")\n",
    "            pass\n",
    "    \n",
    "    \n",
    "    def Autocorrelation_Adj_sharpe_ratio(self):\n",
    "        print(\"This is used to calculate Autocorrelation Adjusted Sharpe Ratio.\")\n",
    "    \n",
    "    def VaR_Adj_sharpe_ratio(self):\n",
    "        print(\"This is used to calculate Modified Sharpe Ratio.\")\n",
    "    \n",
    "    \n",
    "    #######################################\n",
    "    \n",
    "    #### Non-Sharpe Based Measurement ####\n",
    "    \n",
    "    def stutzer_index(self):\n",
    "        print(\"This is used to calculate Modified Sharpe Ratio.\")\n",
    "    \n",
    "    \n",
    "    def omega(self):\n",
    "        print(\"This is used to calculate Modified Sharpe Ratio.\")\n",
    "    \n",
    "    \n",
    "    \n",
    "    \n",
    "    "
   ]
  },
  {
   "cell_type": "code",
   "execution_count": 164,
   "metadata": {},
   "outputs": [],
   "source": [
    "date = df.DATE\n",
    "performance = df.Performance\n",
    "AUM = df.AUM"
   ]
  },
  {
   "cell_type": "code",
   "execution_count": 165,
   "metadata": {},
   "outputs": [
    {
     "name": "stdout",
     "output_type": "stream",
     "text": [
      "Success\n"
     ]
    }
   ],
   "source": [
    "sample_HF_assessment = HF_Model_Free_Assessment(date,performance,AUM)"
   ]
  },
  {
   "cell_type": "code",
   "execution_count": 169,
   "metadata": {},
   "outputs": [
    {
     "data": {
      "text/plain": [
       "1.8189894035458565e-12"
      ]
     },
     "execution_count": 169,
     "metadata": {},
     "output_type": "execute_result"
    }
   ],
   "source": [
    "sample_HF_assessment.Asymmetry_Adj_sharpe_ratio(-1)"
   ]
  },
  {
   "cell_type": "code",
   "execution_count": null,
   "metadata": {},
   "outputs": [],
   "source": []
  },
  {
   "cell_type": "code",
   "execution_count": null,
   "metadata": {},
   "outputs": [],
   "source": []
  },
  {
   "cell_type": "code",
   "execution_count": null,
   "metadata": {},
   "outputs": [],
   "source": []
  },
  {
   "cell_type": "code",
   "execution_count": null,
   "metadata": {},
   "outputs": [],
   "source": []
  },
  {
   "cell_type": "code",
   "execution_count": null,
   "metadata": {},
   "outputs": [],
   "source": []
  },
  {
   "cell_type": "code",
   "execution_count": null,
   "metadata": {},
   "outputs": [],
   "source": []
  },
  {
   "cell_type": "code",
   "execution_count": null,
   "metadata": {},
   "outputs": [],
   "source": []
  }
 ],
 "metadata": {
  "kernelspec": {
   "display_name": "Python 3",
   "language": "python",
   "name": "python3"
  },
  "language_info": {
   "codemirror_mode": {
    "name": "ipython",
    "version": 3
   },
   "file_extension": ".py",
   "mimetype": "text/x-python",
   "name": "python",
   "nbconvert_exporter": "python",
   "pygments_lexer": "ipython3",
   "version": "3.6.5"
  }
 },
 "nbformat": 4,
 "nbformat_minor": 2
}
